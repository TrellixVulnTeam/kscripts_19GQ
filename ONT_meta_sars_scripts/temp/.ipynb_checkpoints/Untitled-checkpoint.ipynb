{
 "cells": [
  {
   "cell_type": "code",
   "execution_count": 50,
   "id": "a29dc0b6-957e-469c-9c36-6a474ad2332a",
   "metadata": {},
   "outputs": [],
   "source": [
    "import sys\n",
    "import os\n",
    "import subprocess\n",
    "import yaml"
   ]
  },
  {
   "cell_type": "markdown",
   "id": "568e269d-44c5-4d6f-ad72-76844cf74c10",
   "metadata": {},
   "source": [
    "### 测试 subprocess.run env 参数"
   ]
  },
  {
   "cell_type": "code",
   "execution_count": 52,
   "id": "1b122e5b-f547-4d2b-a9a0-ecad8d22a071",
   "metadata": {},
   "outputs": [],
   "source": [
    "env = \"\"\"\n",
    "# config file\n",
    "# export Conda environments\n",
    "MICROBIAL_WGS_BIN=/home/gwadmin/miniconda3/envs/microbial_wgs/bin\n",
    "CENTRIFUGE_BIN=/home/gwadmin/miniconda3/envs/centrifuge/bin\n",
    "NANOPORE_BIN=/home/gwadmin/miniconda3/envs/nanopore/bin\n",
    "# Databases\n",
    "RLABEL=\"NC_045512.2\"\n",
    "SARS2_FA=/sdbb/bioinfor/Database/references/NC_045512.2/NC_045512.2.fasta\n",
    "HG38HOST_MMI=/sdbb/bioinfor/Database/references/homo_sapiens/hg38.GenomeAndrRNA.mmi\n",
    "SARS2_MMI=/sdbb/bioinfor/Database/references/NC_045512.2/NC_045512.2.mmi\n",
    "CENTRIFUGE_DB=/sdbb/bioinfor/Database/Nanopore/centrifuge/hpvc/hpvc\n",
    "NEXTCLADE_SARS2=/sdbb/bioinfor/mengxf/Database/nextclade/data/sars-cov-2\n",
    "# Arguments\n",
    "MIN_COVERAGE=20\n",
    "THREADS=16\n",
    "\"\"\"\n",
    "env_dict = dict()\n",
    "for arg in env.strip().split(\"\\n\"):\n",
    "    if \"=\" in arg:\n",
    "        tmplist = arg.split(\"=\")\n",
    "        env_dict[tmplist[0]] = tmplist[1]\n",
    "# env_dict\n",
    "with open(\"../libs/meta_sars2_ont_tmp.yaml\", \"w\", encoding=\"utf-8\", newline=\"\") as gh:\n",
    "    gh.write(yaml.dump(env_dict, allow_unicode=True))"
   ]
  },
  {
   "cell_type": "code",
   "execution_count": 70,
   "id": "d0a5b063-c25c-4cdc-a67d-9db3fedd90c7",
   "metadata": {},
   "outputs": [
    {
     "name": "stdout",
     "output_type": "stream",
     "text": [
      "/sdbb/bioinfor/Database/references/NC_045512.2/NC_045512.2.fasta\n",
      "/sdbb/bioinfor/Database/Nanopore/centrifuge/hpvc/hpvc\n",
      "Python 3.8.10\n",
      "\n",
      "\n"
     ]
    }
   ],
   "source": [
    "# env dict\n",
    "with open(\"../libs/meta_sars2_ont_tmp.yaml\") as fh:\n",
    "    env_dict = yaml.safe_load(fh)\n",
    "# run shell\n",
    "cmd = \"bash t.sh\"\n",
    "s = subprocess.run(cmd, shell=True, capture_output=True, check=True, encoding='utf-8', env=env_dict)\n",
    "print(s.stdout)\n",
    "print(s.stderr)"
   ]
  },
  {
   "cell_type": "code",
   "execution_count": null,
   "id": "d94e6da2-1bc4-40ac-8056-e0bd3a30cc80",
   "metadata": {},
   "outputs": [],
   "source": []
  }
 ],
 "metadata": {
  "kernelspec": {
   "display_name": "Python 3 (ipykernel)",
   "language": "python",
   "name": "python3"
  },
  "language_info": {
   "codemirror_mode": {
    "name": "ipython",
    "version": 3
   },
   "file_extension": ".py",
   "mimetype": "text/x-python",
   "name": "python",
   "nbconvert_exporter": "python",
   "pygments_lexer": "ipython3",
   "version": "3.9.9"
  }
 },
 "nbformat": 4,
 "nbformat_minor": 5
}
